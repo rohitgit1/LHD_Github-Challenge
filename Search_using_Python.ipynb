{
  "nbformat": 4,
  "nbformat_minor": 0,
  "metadata": {
    "colab": {
      "name": "Search_using_Python.ipynb",
      "provenance": [],
      "authorship_tag": "ABX9TyOh7J84QnXblruCvY9ElbdI",
      "include_colab_link": true
    },
    "kernelspec": {
      "name": "python3",
      "display_name": "Python 3"
    },
    "language_info": {
      "name": "python"
    }
  },
  "cells": [
    {
      "cell_type": "markdown",
      "metadata": {
        "id": "view-in-github",
        "colab_type": "text"
      },
      "source": [
        "<a href=\"https://colab.research.google.com/github/rohitgit1/LHD_Github-Challenge/blob/main/Search_using_Python.ipynb\" target=\"_parent\"><img src=\"https://colab.research.google.com/assets/colab-badge.svg\" alt=\"Open In Colab\"/></a>"
      ]
    },
    {
      "cell_type": "markdown",
      "metadata": {
        "id": "CxctdW6voBN1"
      },
      "source": [
        "**Importing Searching Libraries**"
      ]
    },
    {
      "cell_type": "code",
      "metadata": {
        "id": "7M0gTVp3jl_F"
      },
      "source": [
        "try:\n",
        "\tfrom googlesearch import search\n",
        "except ImportError:\n",
        "\tprint(\"No module named 'google' found\")"
      ],
      "execution_count": 7,
      "outputs": []
    },
    {
      "cell_type": "markdown",
      "metadata": {
        "id": "D7s1wfS_nhct"
      },
      "source": [
        "**Query to be searched**"
      ]
    },
    {
      "cell_type": "code",
      "metadata": {
        "id": "GIEB6PYykXf1"
      },
      "source": [
        "Query = \"Major League Hacking\""
      ],
      "execution_count": 8,
      "outputs": []
    },
    {
      "cell_type": "markdown",
      "metadata": {
        "id": "IfhyT_zunwk7"
      },
      "source": [
        "**Search Results**"
      ]
    },
    {
      "cell_type": "code",
      "metadata": {
        "colab": {
          "base_uri": "https://localhost:8080/"
        },
        "id": "JYKDnTojktNa",
        "outputId": "f5c63599-6866-462c-f995-d1cf641aaa60"
      },
      "source": [
        "for j in search(Query, tld=\"co.in\", num=10, stop=10, pause=2):\n",
        "\tprint(j)"
      ],
      "execution_count": 9,
      "outputs": [
        {
          "output_type": "stream",
          "text": [
            "https://mlh.io/\n",
            "http://mlh.io/\n",
            "https://en.wikipedia.org/wiki/Major_League_Hacking\n",
            "https://twitter.com/MLHacks?ref_src=twsrc%5Egoogle%7Ctwcamp%5Eserp%7Ctwgr%5Eauthor\n",
            "https://twitter.com/MLHacks/status/1378724495184302090?ref_src=twsrc%5Egoogle%7Ctwcamp%5Eserp%7Ctwgr%5Etweet\n",
            "https://twitter.com/MLHacks/status/1378633706055856128?ref_src=twsrc%5Egoogle%7Ctwcamp%5Eserp%7Ctwgr%5Etweet\n",
            "https://twitter.com/MLHacks/status/1378549637238362114?ref_src=twsrc%5Egoogle%7Ctwcamp%5Eserp%7Ctwgr%5Etweet\n",
            "https://mlh.medium.com/\n",
            "https://www.linkedin.com/company/major-league-hacking\n",
            "https://www.facebook.com/MajorLeagueHacking/\n"
          ],
          "name": "stdout"
        }
      ]
    },
    {
      "cell_type": "markdown",
      "metadata": {
        "id": "tIvt_GhDn2eL"
      },
      "source": [
        "**The End**"
      ]
    },
    {
      "cell_type": "code",
      "metadata": {
        "id": "OdQH6umukwBy"
      },
      "source": [
        ""
      ],
      "execution_count": null,
      "outputs": []
    },
    {
      "cell_type": "markdown",
      "metadata": {
        "id": "99Xdgc5Yn7cN"
      },
      "source": [
        ""
      ]
    }
  ]
}